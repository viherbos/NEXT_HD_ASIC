{
 "cells": [
  {
   "cell_type": "code",
   "execution_count": 31,
   "metadata": {},
   "outputs": [],
   "source": [
    "import numpy as np\n",
    "import matplotlib.pyplot as plt\n",
    "from scipy import signal\n",
    "import fit_library as fit_lib\n",
    "import pandas as pd\n",
    "%matplotlib nbagg\n",
    "%reload_ext autoreload\n",
    "%autoreload 2"
   ]
  },
  {
   "cell_type": "code",
   "execution_count": 32,
   "metadata": {},
   "outputs": [],
   "source": [
    "# DATA\n",
    "TH_HIGH = 1.414\n",
    "TH_LOW = 0.404\n",
    "Cint = 6.18E-12\n",
    "GATE = 500E-9\n",
    "pQ = 1E-12\n",
    "Ileak = 3.72E-6\n",
    "\n",
    "Qu = (TH_HIGH-TH_LOW)*Cint / pQ"
   ]
  },
  {
   "cell_type": "code",
   "execution_count": 33,
   "metadata": {},
   "outputs": [],
   "source": [
    "pe_density = [\"200pe\",\"100pe\",\"50pe\",\"25pe\"]\n",
    "#pe_density = [\"200pe\"]\n",
    "df = pd.DataFrame(columns=['pe_density','Q_true','Q_measured','Qu','N_flips','Q_residue'])\n",
    "\n"
   ]
  },
  {
   "cell_type": "code",
   "execution_count": 34,
   "metadata": {},
   "outputs": [
    {
     "name": "stderr",
     "output_type": "stream",
     "text": [
      "/tmp/ipykernel_8570/993656772.py:5: ParserWarning: Falling back to the 'python' engine because the 'c' engine does not support regex separators (separators > 1 char and different from '\\s+' are interpreted as regex); you can avoid this warning by specifying engine='python'.\n",
      "  residue=pd.read_csv(\"./results/residue\"+ file,header=None,skiprows=2,sep=\"    \")\n",
      "/tmp/ipykernel_8570/993656772.py:6: ParserWarning: Falling back to the 'python' engine because the 'c' engine does not support regex separators (separators > 1 char and different from '\\s+' are interpreted as regex); you can avoid this warning by specifying engine='python'.\n",
      "  counter=pd.read_csv(\"./results/counter\"+ file,header=None,skiprows=2,sep=\"    \")\n",
      "/tmp/ipykernel_8570/993656772.py:21: FutureWarning: The frame.append method is deprecated and will be removed from pandas in a future version. Use pandas.concat instead.\n",
      "  df = df.append(aux_pd, ignore_index=True)\n",
      "/tmp/ipykernel_8570/993656772.py:5: ParserWarning: Falling back to the 'python' engine because the 'c' engine does not support regex separators (separators > 1 char and different from '\\s+' are interpreted as regex); you can avoid this warning by specifying engine='python'.\n",
      "  residue=pd.read_csv(\"./results/residue\"+ file,header=None,skiprows=2,sep=\"    \")\n",
      "/tmp/ipykernel_8570/993656772.py:6: ParserWarning: Falling back to the 'python' engine because the 'c' engine does not support regex separators (separators > 1 char and different from '\\s+' are interpreted as regex); you can avoid this warning by specifying engine='python'.\n",
      "  counter=pd.read_csv(\"./results/counter\"+ file,header=None,skiprows=2,sep=\"    \")\n",
      "/tmp/ipykernel_8570/993656772.py:21: FutureWarning: The frame.append method is deprecated and will be removed from pandas in a future version. Use pandas.concat instead.\n",
      "  df = df.append(aux_pd, ignore_index=True)\n",
      "/tmp/ipykernel_8570/993656772.py:5: ParserWarning: Falling back to the 'python' engine because the 'c' engine does not support regex separators (separators > 1 char and different from '\\s+' are interpreted as regex); you can avoid this warning by specifying engine='python'.\n",
      "  residue=pd.read_csv(\"./results/residue\"+ file,header=None,skiprows=2,sep=\"    \")\n",
      "/tmp/ipykernel_8570/993656772.py:6: ParserWarning: Falling back to the 'python' engine because the 'c' engine does not support regex separators (separators > 1 char and different from '\\s+' are interpreted as regex); you can avoid this warning by specifying engine='python'.\n",
      "  counter=pd.read_csv(\"./results/counter\"+ file,header=None,skiprows=2,sep=\"    \")\n",
      "/tmp/ipykernel_8570/993656772.py:21: FutureWarning: The frame.append method is deprecated and will be removed from pandas in a future version. Use pandas.concat instead.\n",
      "  df = df.append(aux_pd, ignore_index=True)\n",
      "/tmp/ipykernel_8570/993656772.py:5: ParserWarning: Falling back to the 'python' engine because the 'c' engine does not support regex separators (separators > 1 char and different from '\\s+' are interpreted as regex); you can avoid this warning by specifying engine='python'.\n",
      "  residue=pd.read_csv(\"./results/residue\"+ file,header=None,skiprows=2,sep=\"    \")\n",
      "/tmp/ipykernel_8570/993656772.py:6: ParserWarning: Falling back to the 'python' engine because the 'c' engine does not support regex separators (separators > 1 char and different from '\\s+' are interpreted as regex); you can avoid this warning by specifying engine='python'.\n",
      "  counter=pd.read_csv(\"./results/counter\"+ file,header=None,skiprows=2,sep=\"    \")\n",
      "/tmp/ipykernel_8570/993656772.py:21: FutureWarning: The frame.append method is deprecated and will be removed from pandas in a future version. Use pandas.concat instead.\n",
      "  df = df.append(aux_pd, ignore_index=True)\n"
     ]
    }
   ],
   "source": [
    "for pe in pe_density:\n",
    "        for set in range(1,2):\n",
    "            file = \"_\" + pe + \"_500ns_set\" + str(set) + \".txt\"\n",
    "            Q_total = np.array(pd.read_csv(\"./results/Qtotal\"+ file ,header=None))\n",
    "            residue=pd.read_csv(\"./results/residue\"+ file,header=None,skiprows=2,sep=\"    \")\n",
    "            counter=pd.read_csv(\"./results/counter\"+ file,header=None,skiprows=2,sep=\"    \")\n",
    "            residue = (residue.to_numpy()-TH_LOW)*Cint / pQ\n",
    "            counter = counter.to_numpy()\n",
    "                        \n",
    "            residue_t = np.sum(residue[:,1])\n",
    "            entero = np.array(counter[:,1], dtype='int')\n",
    "            binario = np.array(entero[:], dtype='str')\n",
    "            flips = 0\n",
    "            n_gates = len(binario)\n",
    "            for i in range(n_gates):\n",
    "                flips = flips + int(binario[i],2)\n",
    "            q_meas = flips*Qu + residue_t - Ileak*GATE*n_gates/pQ\n",
    "            \n",
    "            aux_pd = pd.DataFrame(data={'pe_density':[pe], 'Q_true':[Q_total[0,0]/pQ], 'Q_measured':[q_meas],\n",
    "                                                'Qu':[Qu], 'N_flips':[flips], 'Q_residue':[residue_t]})\n",
    "            df = df.append(aux_pd, ignore_index=True)"
   ]
  },
  {
   "cell_type": "code",
   "execution_count": 35,
   "metadata": {},
   "outputs": [
    {
     "data": {
      "text/html": [
       "<div>\n",
       "<style scoped>\n",
       "    .dataframe tbody tr th:only-of-type {\n",
       "        vertical-align: middle;\n",
       "    }\n",
       "\n",
       "    .dataframe tbody tr th {\n",
       "        vertical-align: top;\n",
       "    }\n",
       "\n",
       "    .dataframe thead th {\n",
       "        text-align: right;\n",
       "    }\n",
       "</style>\n",
       "<table border=\"1\" class=\"dataframe\">\n",
       "  <thead>\n",
       "    <tr style=\"text-align: right;\">\n",
       "      <th></th>\n",
       "      <th>pe_density</th>\n",
       "      <th>Q_true</th>\n",
       "      <th>Q_measured</th>\n",
       "      <th>Qu</th>\n",
       "      <th>N_flips</th>\n",
       "      <th>Q_residue</th>\n",
       "    </tr>\n",
       "  </thead>\n",
       "  <tbody>\n",
       "    <tr>\n",
       "      <th>0</th>\n",
       "      <td>200pe</td>\n",
       "      <td>155.970</td>\n",
       "      <td>154.257544</td>\n",
       "      <td>6.2418</td>\n",
       "      <td>23</td>\n",
       "      <td>19.996144</td>\n",
       "    </tr>\n",
       "    <tr>\n",
       "      <th>1</th>\n",
       "      <td>100pe</td>\n",
       "      <td>155.964</td>\n",
       "      <td>154.943193</td>\n",
       "      <td>6.2418</td>\n",
       "      <td>23</td>\n",
       "      <td>26.261793</td>\n",
       "    </tr>\n",
       "    <tr>\n",
       "      <th>2</th>\n",
       "      <td>50pe</td>\n",
       "      <td>155.969</td>\n",
       "      <td>156.011277</td>\n",
       "      <td>6.2418</td>\n",
       "      <td>20</td>\n",
       "      <td>62.795277</td>\n",
       "    </tr>\n",
       "    <tr>\n",
       "      <th>3</th>\n",
       "      <td>25pe</td>\n",
       "      <td>155.996</td>\n",
       "      <td>153.299831</td>\n",
       "      <td>6.2418</td>\n",
       "      <td>24</td>\n",
       "      <td>61.156631</td>\n",
       "    </tr>\n",
       "  </tbody>\n",
       "</table>\n",
       "</div>"
      ],
      "text/plain": [
       "  pe_density   Q_true  Q_measured      Qu N_flips  Q_residue\n",
       "0      200pe  155.970  154.257544  6.2418      23  19.996144\n",
       "1      100pe  155.964  154.943193  6.2418      23  26.261793\n",
       "2       50pe  155.969  156.011277  6.2418      20  62.795277\n",
       "3       25pe  155.996  153.299831  6.2418      24  61.156631"
      ]
     },
     "execution_count": 35,
     "metadata": {},
     "output_type": "execute_result"
    }
   ],
   "source": [
    "df"
   ]
  },
  {
   "cell_type": "code",
   "execution_count": 25,
   "metadata": {},
   "outputs": [
    {
     "data": {
      "text/plain": [
       "6"
      ]
     },
     "execution_count": 25,
     "metadata": {},
     "output_type": "execute_result"
    }
   ],
   "source": [
    "int(\"110\",2)"
   ]
  },
  {
   "cell_type": "code",
   "execution_count": 79,
   "metadata": {},
   "outputs": [
    {
     "data": {
      "text/plain": [
       "array([[1.96097e-10]])"
      ]
     },
     "execution_count": 79,
     "metadata": {},
     "output_type": "execute_result"
    }
   ],
   "source": [
    "Q_total"
   ]
  },
  {
   "cell_type": "code",
   "execution_count": null,
   "metadata": {},
   "outputs": [],
   "source": []
  }
 ],
 "metadata": {
  "kernelspec": {
   "display_name": "Python 3 (ipykernel)",
   "language": "python",
   "name": "python3"
  },
  "language_info": {
   "codemirror_mode": {
    "name": "ipython",
    "version": 3
   },
   "file_extension": ".py",
   "mimetype": "text/x-python",
   "name": "python",
   "nbconvert_exporter": "python",
   "pygments_lexer": "ipython3",
   "version": "3.9.13"
  }
 },
 "nbformat": 4,
 "nbformat_minor": 4
}
